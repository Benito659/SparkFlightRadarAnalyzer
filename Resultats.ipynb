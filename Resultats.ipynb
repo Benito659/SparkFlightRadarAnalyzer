{
 "cells": [
  {
   "cell_type": "code",
   "execution_count": 48,
   "id": "fd4d394e-c64d-4e97-b364-2c09b60171f6",
   "metadata": {},
   "outputs": [],
   "source": [
    "import findspark\n",
    "findspark.init() "
   ]
  },
  {
   "cell_type": "code",
   "execution_count": 49,
   "id": "e7debd9f-cfe1-4e2b-afd8-89c247367c8f",
   "metadata": {},
   "outputs": [],
   "source": [
    "from pyspark import SparkContext,SparkConf\n",
    "from pyspark.sql import SparkSession,Row\n",
    "from pyspark.sql.functions import count, desc,mean,lower,split,rank,dense_rank\n",
    "from pyspark.sql.window import Window\n",
    "from pyspark.sql.types import StructType, StructField, StringType,DoubleType,IntegerType,FloatType,LongType,TimestampType\n",
    "from FlightRadar24 import FlightRadar24API\n",
    "from FlightRadar24.errors import CloudflareError\n",
    "from pyspark.conf import SparkConf\n",
    "from pyspark.sql import SparkSession\n",
    "from pyspark.sql.functions import col\n",
    "# from pyspark.dbutils import DBUtils \n",
    "from datetime import datetime\n",
    "import requests\n",
    "import time\n",
    "import os"
   ]
  },
  {
   "cell_type": "code",
   "execution_count": 50,
   "id": "14e42625-f5d4-4901-b311-e0c295121717",
   "metadata": {},
   "outputs": [],
   "source": [
    "# GET CURRENT DATES TO MAKE NAME OF FOLDER TO SAVES FILES\n",
    "def getCurrentDates():\n",
    "    current_datetime = datetime.now()\n",
    "    years_only = current_datetime.year\n",
    "    hour_only=current_datetime.hour\n",
    "    month_and_year = current_datetime.strftime(\"%B-%Y\")\n",
    "    day_month_year = current_datetime.strftime(\"%d-%B-%Y\")\n",
    "    timestamp = current_datetime.timestamp()\n",
    "    return years_only,month_and_year,day_month_year,timestamp,hour_only"
   ]
  },
  {
   "cell_type": "code",
   "execution_count": 51,
   "id": "6cbed9d4-b6c7-4549-a7f9-acd10f539506",
   "metadata": {},
   "outputs": [],
   "source": [
    "# GET THE COMPLETES FOLDER OF THE FILES TO SAVES\n",
    "def getOutputPath(folderName):\n",
    "    years_only,month_and_year,day_month_year,timestamp,hour_only=getCurrentDates()\n",
    "    filename= folderName+str(timestamp)+\".parquet\"\n",
    "    return \"ResultFiles/{}/rawzone/tech_year={}/tech_month={}/tech_day={}/{}-({},{})\".format(folderName.capitalize(),years_only,month_and_year,day_month_year,folderName,day_month_year,hour_only),filename"
   ]
  },
  {
   "cell_type": "code",
   "execution_count": 52,
   "id": "5f7322c2-e060-4aab-b31b-d48486e90a0a",
   "metadata": {},
   "outputs": [],
   "source": [
    "spark = SparkSession.builder.config(conf=SparkConf()).config(\"spark.master\", \"local[*]\").appName(\"Data Transformation and Reading Phase\").getOrCreate()"
   ]
  },
  {
   "cell_type": "code",
   "execution_count": 53,
   "id": "58a723a7-1f76-4a78-b1c9-2787039960fa",
   "metadata": {},
   "outputs": [],
   "source": [
    "def get_all_parquet_paths(folder_path):\n",
    "    all_paths = []\n",
    "    for foldername, subfolders, filenames in os.walk(\"ExtractionFiles\\\\\"+folder_path):\n",
    "        for filename in filenames:\n",
    "            file_path = os.path.join(foldername, filename)\n",
    "            if file_path.endswith(\".parquet\"):\n",
    "                all_paths.append(file_path)\n",
    "    return all_paths"
   ]
  },
  {
   "cell_type": "code",
   "execution_count": 54,
   "id": "5b920b17-a8f4-4835-af95-455f6f7d8cd7",
   "metadata": {},
   "outputs": [],
   "source": [
    "def get_all_csv_paths(folder_path):\n",
    "    all_paths = []\n",
    "    for foldername, subfolders, filenames in os.walk(\"ExtractionFiles\\\\\"+folder_path):\n",
    "        for filename in filenames:\n",
    "            file_path = os.path.join(foldername, filename)\n",
    "            if file_path.endswith(\".csv\"):\n",
    "                all_paths.append(file_path)\n",
    "    return all_paths"
   ]
  },
  {
   "cell_type": "code",
   "execution_count": 55,
   "id": "56ba51fb-ed4e-4fe9-92c2-b0cbf508675a",
   "metadata": {},
   "outputs": [],
   "source": [
    "def fill_null_value_dataframe(df):\n",
    "    for column in df.columns:\n",
    "        if df.schema[column].dataType == DoubleType() or df.schema[column].dataType == FloatType():\n",
    "            df = df.na.fill(0.0, subset=[column])\n",
    "        elif df.schema[column].dataType == StringType():\n",
    "            df = df.na.fill(\"\", subset=[column]) \n",
    "        elif df.schema[column].dataType ==  IntegerType() or df.schema[column].dataType == LongType():\n",
    "            df = df.na.fill(0, subset=[column]) \n",
    "    return df"
   ]
  },
  {
   "cell_type": "code",
   "execution_count": 56,
   "id": "1cc59915-1d1b-4fc9-837e-764bfe2541d5",
   "metadata": {},
   "outputs": [],
   "source": [
    "def extractionToCsv(df,pathToWrite):\n",
    "    tmp_path=pathToWrite+\"/tmp_data\"\n",
    "    df.coalesce(1).write.format(\"csv\").mode(\"append\").save(tmp_path)"
   ]
  },
  {
   "cell_type": "code",
   "execution_count": 57,
   "id": "352c9369-77e6-4d30-ac34-b9a4a1675d80",
   "metadata": {},
   "outputs": [],
   "source": [
    "def copy_file(file_path,path , filename,tmp_path):\n",
    "    import shutil\n",
    "    destination_path = file_path + \"/\" + filename\n",
    "    shutil.copy(path, destination_path)\n",
    "    shutil.rmtree(tmp_path)"
   ]
  },
  {
   "cell_type": "code",
   "execution_count": 58,
   "id": "e3a28d74-a310-4394-8b06-5de3c122a2fe",
   "metadata": {},
   "outputs": [],
   "source": [
    "def rewriteToCsv(pathToWrite,filenameToReplace):\n",
    "    tmp_path=pathToWrite+\"/tmp_data\"\n",
    "    paths = get_all_csv_paths(pathToWrite)\n",
    "    for path in paths:\n",
    "        copy_file(pathToWrite, path, filenameToReplace,tmp_path)"
   ]
  },
  {
   "cell_type": "code",
   "execution_count": 59,
   "id": "5311b46c-5c35-49dc-b590-ba5472f275b2",
   "metadata": {},
   "outputs": [],
   "source": [
    "airline_path = get_all_parquet_paths(\"airlines\".upper()) [-1]\n",
    "zone_country_city_path = get_all_parquet_paths(\"znctyn\".upper()) [-1]\n",
    "airport_path = get_all_parquet_paths(\"airport\".upper()) [-1]\n",
    "flight_path = get_all_parquet_paths(\"flight\".upper()) [-1]\n",
    "acflight_path = get_all_parquet_paths(\"acflight\".upper()) [-1]\n",
    "flctry_path = get_all_parquet_paths(\"flctry\".upper()) [-1]"
   ]
  },
  {
   "cell_type": "code",
   "execution_count": 60,
   "id": "e83e7ac4-4dd6-4669-acea-53c7084f8b64",
   "metadata": {},
   "outputs": [],
   "source": [
    "df_airlines = spark.read.parquet(airline_path)\n",
    "df_zone_country_city = spark.read.parquet(zone_country_city_path)\n",
    "df_airport = spark.read.parquet(airport_path)\n",
    "df_flight = spark.read.parquet(flight_path)\n",
    "df_acflight = spark.read.parquet(acflight_path)\n",
    "df_flctry = spark.read.parquet(flctry_path)"
   ]
  },
  {
   "cell_type": "code",
   "execution_count": 61,
   "id": "47cc7141-512e-476b-8f63-63bebaf9d361",
   "metadata": {},
   "outputs": [],
   "source": [
    "taille=10000\n",
    "# DATA CLEANING:\n",
    "\n",
    "# drop duplicate value\n",
    "df_airlines = df_airlines.dropDuplicates()\n",
    "# Standardaizing column\n",
    "df_airlines = df_airlines.withColumn(\"Name\", lower(col(\"name\")))\n",
    "# Fill null values in a text column with an empty string\n",
    "df_airlines = df_airlines.fillna('', subset=['Code'])\n",
    "\n",
    "\n",
    "# drop duplicate value\n",
    "df_zone_country_city = df_zone_country_city.dropDuplicates()\n",
    "# Standardaizing column\n",
    "df_zone_country_city = df_zone_country_city.withColumn(\"zone_country\", lower(col(\"zone_country\")))\n",
    "# Fill null values in a text column with an empty string\n",
    "df_zone_country_city=fill_null_value_dataframe(df_zone_country_city)\n"
   ]
  },
  {
   "cell_type": "code",
   "execution_count": 62,
   "id": "45b59d9f-0d1b-4c8f-9070-66171f1e2108",
   "metadata": {},
   "outputs": [],
   "source": [
    "# drop duplicate value\n",
    "df_airport = df_airport.dropDuplicates()\n",
    "# Standardaizing column\n",
    "df_airport = df_airport.withColumn(\"country\", lower(col(\"country\")))\n",
    "df_airport = df_airport.withColumn(\"name\", lower(col(\"name\")))\n",
    "# Fill null values in a text column with an empty string\n",
    "df_airport=fill_null_value_dataframe(df_airport)\n"
   ]
  },
  {
   "cell_type": "code",
   "execution_count": 63,
   "id": "3eb2dd14-bebf-441c-9b9f-0b8339994b10",
   "metadata": {},
   "outputs": [],
   "source": [
    "# drop duplicate value\n",
    "df_flight = df_flight.dropDuplicates()\n",
    "# Standardaizing column\n",
    "df_flight = df_flight.withColumn(\"aircraft_model|\", lower(col(\"aircraft_model\")))\n",
    "# filtering columns\n",
    "df_flight = df_flight.filter(\n",
    "    (col(\"airline_icao\") != '') &\n",
    "    (col(\"departure_time\").isNotNull()) &\n",
    "    ((col(\"aircraft_model\").isNotNull()) | (col(\"aircraft_model\") != '')) &\n",
    "    (col(\"origin_airport_iata\") != '')\n",
    ")\n",
    "# Rename somme columns\n",
    "df_flight = df_flight.withColumnRenamed(\"departure_time\", \"departure_origin\")\n",
    "df_flight = df_flight.withColumn(\"aircraft_model\", lower(col(\"aircraft_model\")))\n",
    "df_flight=fill_null_value_dataframe(df_flight)"
   ]
  },
  {
   "cell_type": "code",
   "execution_count": 64,
   "id": "52fbc3a9-20bb-4eda-baa2-4235613775ad",
   "metadata": {},
   "outputs": [],
   "source": [
    "# drop duplicate value\n",
    "df_acflight = df_acflight.dropDuplicates()\n",
    "# Standardaizing column\n",
    "df_acflight = df_acflight.withColumn(\"aircraft_model\", lower(col(\"aircraft_model\")))\n",
    "# Rename somme columns\n",
    "df_acflight = df_acflight.withColumnRenamed(\"departure_time\", \"departure_origin\")\n",
    "# Fill null values in a text column with an empty string\n",
    "df_acflight=fill_null_value_dataframe(df_acflight)"
   ]
  },
  {
   "cell_type": "code",
   "execution_count": 65,
   "id": "b7b8c106-b734-4763-b9a5-29f32d40e607",
   "metadata": {},
   "outputs": [
    {
     "name": "stdout",
     "output_type": "stream",
     "text": [
      "+----------+------------+---------+\n",
      "|   country|   continent|id_flight|\n",
      "+----------+------------+---------+\n",
      "|   Armenia|      europe| 33c26a27|\n",
      "|  Ethiopia|      africa| 33c276eb|\n",
      "|  Paraguay|southamerica| 33c27950|\n",
      "|  Ethiopia|      africa| 33c26d87|\n",
      "|     Congo|      africa| 33c25de6|\n",
      "|Luxembourg|      europe| 33c25810|\n",
      "|  Ethiopia|      africa| 33c279b6|\n",
      "|    Kosovo|      europe| 33c273ed|\n",
      "|  Ethiopia|      africa| 33c27355|\n",
      "+----------+------------+---------+\n",
      "\n"
     ]
    }
   ],
   "source": [
    "# drop duplicate value\n",
    "df_flctry = df_flctry.dropDuplicates()\n",
    "df_flctry.show()\n"
   ]
  },
  {
   "cell_type": "code",
   "execution_count": 66,
   "id": "9b4ac873-e9a7-40fa-9ee9-d01db748d490",
   "metadata": {},
   "outputs": [
    {
     "name": "stdout",
     "output_type": "stream",
     "text": [
      "\n",
      "la compagnie avec le plus de vol en cours: united airlines\n",
      "\n"
     ]
    }
   ],
   "source": [
    "## 1 la compagnie avec le plus de vol en cours\n",
    "joinexpression = df_acflight[\"airline_icao\"] == df_airlines[\"ICAO\"]\n",
    "df_ac_airline=df_acflight.join(df_airlines,joinexpression,\"inner\")\n",
    "flight_counts = df_ac_airline.groupBy(\"Name\").agg(count(\"*\").alias(\"flight_count\"))\n",
    "flight_counts = flight_counts.orderBy(desc(\"flight_count\"))\n",
    "max_flight_airline =flight_counts.first()\n",
    "print(\"\\nla compagnie avec le plus de vol en cours: {}\\n\".format(max_flight_airline[\"Name\"]))\n",
    "output_path,filename=getOutputPath(\"ResultatQuestion1\")\n",
    "extractionToCsv(flight_counts,output_path)\n",
    "rewriteToCsv(output_path,filename)"
   ]
  },
  {
   "cell_type": "code",
   "execution_count": 22,
   "id": "77fca16b-01ac-4297-808c-3fc2570087b9",
   "metadata": {},
   "outputs": [
    {
     "name": "stdout",
     "output_type": "stream",
     "text": [
      "la compagnie avec le + de vols régionaux actifs:\n"
     ]
    }
   ],
   "source": [
    "## 2 Pour chaque continent, la compagnie avec le + de vols régionaux actifs (continent d'origine == continent de destination)\n",
    "jointype=\"left_outer\"\n",
    "joinexpression_origin = df_ac_airline[\"origin_airport_iata\"] == df_airport[\"iata\"] \n",
    "df_ac_airport_origin=df_ac_airline.join(df_airport.select('iata', 'country') ,on=joinexpression_origin, how=jointype)\n",
    "df_ac_airport_origin = df_ac_airport_origin.withColumnRenamed('country', 'country_origin').withColumnRenamed('iata', 'iata_origin')\n",
    "joinexpression_origin = df_ac_airport_origin[\"country_origin\"] == df_zone_country_city[\"zone_country\"] \n",
    "df_ac_airport_origin=df_ac_airport_origin.join(df_zone_country_city.select('zone_country', 'continent') ,on=joinexpression_origin, how=jointype)\n",
    "df_ac_airport_origin = df_ac_airport_origin.withColumnRenamed('zone_country', 'zone_country_origin').withColumnRenamed('continent', 'continent_origin')\n",
    "\n",
    "joinexpression_origin = df_ac_airport_origin[\"destination_airport_iata\"] == df_airport[\"iata\"] \n",
    "df_ac_airport_origin=df_ac_airport_origin.join(df_airport.select('iata', 'country') ,on=joinexpression_origin, how=jointype)\n",
    "df_ac_airport_origin = df_ac_airport_origin.withColumnRenamed('country', 'country_destination').withColumnRenamed('iata', 'iata_destination')\n",
    "joinexpression_origin = df_ac_airport_origin[\"country_destination\"] == df_zone_country_city[\"zone_country\"] \n",
    "df_ac_airport_origin=df_ac_airport_origin.join(df_zone_country_city.select('zone_country', 'continent') ,on=joinexpression_origin, how=jointype)\n",
    "df_ac_airport_origin = df_ac_airport_origin.withColumnRenamed('zone_country', 'zone_country_destination').withColumnRenamed('continent', 'continent_destination')\n",
    "\n",
    "df_ac_airport_origin_first=df_ac_airport_origin.select(\"Name\",\"continent_origin\").where(\"continent_destination = continent_origin\")\n",
    "df_ac_airport_origin_first_new=df_ac_airport_origin_first.groupBy(\"Name\").agg(count(\"*\").alias(\"flight_count\"))\n",
    "max_df_ac_airport_origin_first_new=df_ac_airport_origin_first_new.orderBy(col(\"flight_count\").desc()).first()\n",
    "print(\"la compagnie avec le + de vols régionaux actifs:\")\n",
    "output_path,filename=getOutputPath(\"ResultatQuestion2\")\n",
    "max_df_ac_airport_origin_first_new_df = spark.createDataFrame([max_df_ac_airport_origin_first_new])\n",
    "extractionToCsv(max_df_ac_airport_origin_first_new_df,output_path)\n",
    "rewriteToCsv(output_path,filename)"
   ]
  },
  {
   "cell_type": "code",
   "execution_count": 67,
   "id": "2598cc00-1b95-496d-871c-f53064c861c8",
   "metadata": {},
   "outputs": [
    {
     "name": "stdout",
     "output_type": "stream",
     "text": [
      "\n",
      "Le vol en cours avec le trajet le plus long:\n",
      "\n",
      "33c0845b QFA MEL 1706239091\n"
     ]
    }
   ],
   "source": [
    "## 3 Le vol en cours avec le trajet le plus long:\n",
    "df_acflight = df_acflight.withColumn(\"actual_distance\", col(\"actual_distance\").cast(\"integer\"))\n",
    "max_distance_flight = df_acflight.orderBy(col(\"actual_distance\").desc()).first()\n",
    "print(\"\\nLe vol en cours avec le trajet le plus long:\\n\")\n",
    "print(max_distance_flight[0], max_distance_flight[3], max_distance_flight[4], max_distance_flight[10])\n",
    "output_path,filename=getOutputPath(\"ResultatQuestion3\")\n",
    "max_distance_flight_df = spark.createDataFrame([max_distance_flight])\n",
    "extractionToCsv(max_distance_flight_df,output_path)\n",
    "rewriteToCsv(output_path,filename)"
   ]
  },
  {
   "cell_type": "code",
   "execution_count": 68,
   "id": "3874922d-d9be-41a1-a2c5-11d5b0b88ca3",
   "metadata": {},
   "outputs": [
    {
     "name": "stdout",
     "output_type": "stream",
     "text": [
      "\n",
      "Pour chaque continent la longueur de vol moyenne:\n",
      "\n",
      "+---------+------------------+\n",
      "|continent|mean_flight_length|\n",
      "+---------+------------------+\n",
      "|   europe|    -1.706263006E9|\n",
      "|   africa|    -8.531204095E8|\n",
      "+---------+------------------+\n",
      "\n"
     ]
    }
   ],
   "source": [
    "## 4 Pour chaque continent, la longueur de vol moyenne\n",
    "df_ac_airport = df_flight.join(df_airport, df_flight[\"origin_airport_iata\"] == df_airport[\"iata\"])\n",
    "df_ac_airport = df_ac_airport.withColumn(\"country\", lower(col(\"country\")))\n",
    "df_flctry = df_flctry.withColumn(\"country\", lower(col(\"country\")))\n",
    "final_df = df_ac_airport.join(df_flctry, df_ac_airport[\"country\"] == df_flctry[\"country\"])\n",
    "final_df = final_df.filter(col(\"departure_arrival\").isNotNull() & col(\"departure_origin\").isNotNull())\n",
    "final_df = final_df.withColumn(\"flight_length\", (col(\"departure_arrival\") - col(\"departure_origin\")))\n",
    "result_df = final_df.groupBy(\"continent\").agg(mean(\"flight_length\").alias(\"mean_flight_length\"))\n",
    "# Pour chaque continent la longueur de vol moyenne\n",
    "print(\"\\nPour chaque continent la longueur de vol moyenne:\\n\")\n",
    "result_df.show()\n",
    "output_path,filename=getOutputPath(\"ResultatQuestion4\")\n",
    "extractionToCsv(result_df,output_path)\n",
    "rewriteToCsv(output_path,filename)"
   ]
  },
  {
   "cell_type": "code",
   "execution_count": 25,
   "id": "090d29f9-6598-4a13-9fc9-e77e6973aa6d",
   "metadata": {},
   "outputs": [
    {
     "name": "stdout",
     "output_type": "stream",
     "text": [
      "\n",
      "L'entreprise constructeur d'avions avec le plus de vols actifs:\n",
      "\n",
      "+-------------+-----+\n",
      "|aircraft_type|count|\n",
      "+-------------+-----+\n",
      "|       boeing|  689|\n",
      "|       airbus|  354|\n",
      "|    mcdonnell|    8|\n",
      "|   bombardier|    7|\n",
      "|      embraer|    3|\n",
      "+-------------+-----+\n",
      "\n"
     ]
    }
   ],
   "source": [
    "df_result = df_acflight.withColumn('aircraft_type', split(df_acflight['aircraft_model'], ' ').getItem(0))\n",
    "df_count = df_result.groupBy('aircraft_type').count()\n",
    "df_count = df_count.orderBy(col('count').desc())\n",
    "df_top5 = df_count.limit(5)\n",
    "print(\"\\nL'entreprise constructeur d'avions avec le plus de vols actifs:\\n\")\n",
    "df_top5.show()\n",
    "output_path,filename=getOutputPath(\"ResultatQuestion5\")\n",
    "extractionToCsv(df_top5,output_path)\n",
    "rewriteToCsv(output_path,filename)"
   ]
  },
  {
   "cell_type": "code",
   "execution_count": 69,
   "id": "71e4f621-7f11-4f98-afe1-f919906f3080",
   "metadata": {},
   "outputs": [
    {
     "name": "stdout",
     "output_type": "stream",
     "text": [
      "\n",
      "Pour chaque pays de compagnie aérienne, le top 3 des modèles d'avion en usage:\n",
      "\n",
      "+----+-------+--------------+-----------+----------+\n",
      "|Name|country|aircraft_model|model_count|model_rank|\n",
      "+----+-------+--------------+-----------+----------+\n",
      "+----+-------+--------------+-----------+----------+\n",
      "\n"
     ]
    }
   ],
   "source": [
    "joinexpression = df_acflight[\"airline_icao\"] == df_airlines[\"ICAO\"]\n",
    "df_active_airline=df_acflight.join(df_airlines,joinexpression,\"inner\")\n",
    "joinexpression = df_active_airline[\"flight_id\"] == df_flctry[\"id_flight\"]\n",
    "df_compagnie_by_county = df_active_airline.join(df_flctry,joinexpression , \"inner\")\n",
    "grouped_df = df_compagnie_by_county.groupBy( \"Name\",\"country\",\"aircraft_model\").agg(count(\"flight_id\").alias(\"model_count\"))\n",
    "windowSpec = Window.partitionBy(\"Name\", \"country\").orderBy(col(\"model_count\").desc())\n",
    "rankedModels = grouped_df.withColumn(\"model_rank\", dense_rank().over(windowSpec))\n",
    "top3Models = rankedModels.filter(col(\"model_rank\") <= 3)\n",
    "print(\"\\nPour chaque pays de compagnie aérienne, le top 3 des modèles d'avion en usage:\\n\")\n",
    "top3Models.show()\n",
    "output_path,filename=getOutputPath(\"ResultatQuestion6\")\n",
    "extractionToCsv(top3Models,output_path)\n",
    "rewriteToCsv(output_path,filename)"
   ]
  },
  {
   "cell_type": "code",
   "execution_count": 70,
   "id": "1a097428-8436-4555-9372-ad412334797b",
   "metadata": {},
   "outputs": [
    {
     "name": "stdout",
     "output_type": "stream",
     "text": [
      " l'aéroport a la plus grande différence entre le nombre de vol sortant et le nombre de vols entrants Row(name='new york john f. kennedy international airport') (JFK) with a difference of 24 flights.\n"
     ]
    }
   ],
   "source": [
    "inbound_flights = ( df_acflight.filter(col(\"destination_airport_iata\").isNotNull())\n",
    "    .groupBy(\"destination_airport_iata\").agg({\"*\": \"count\"}).withColumnRenamed(\"count(1)\", \"num_inbound_flights\")\n",
    "    .select(\"destination_airport_iata\", \"num_inbound_flights\")\n",
    ")\n",
    "outbound_flights = ( df_acflight.filter(col(\"origin_airport_iata\").isNotNull())\n",
    "    .groupBy(\"origin_airport_iata\").agg({\"*\": \"count\"}).withColumnRenamed(\"count(1)\", \"num_outbound_flights\")\n",
    "    .select(\"origin_airport_iata\", \"num_outbound_flights\")\n",
    ")\n",
    "flight_counts = inbound_flights.join(outbound_flights, inbound_flights[\"destination_airport_iata\"] == outbound_flights[\"origin_airport_iata\"], \"outer\").na.fill(0)\n",
    "flight_counts = flight_counts.withColumn(\"flight_difference\",  col(\"num_inbound_flights\") - col(\"num_outbound_flights\"))\n",
    "max_difference_row = flight_counts.orderBy(col(\"flight_difference\").desc()).first()\n",
    "max_difference_airport = df_airport.filter(col(\"iata\") == max_difference_row[\"destination_airport_iata\"]).select(\"name\").first()\n",
    "max_difference_airport_name=max_difference_airport[\"name\"]\n",
    "print(f\" l'aéroport a la plus grande différence entre le nombre de vol sortant et le nombre de vols entrants {max_difference_airport} ({max_difference_row['destination_airport_iata']}) with a difference of {max_difference_row['flight_difference']} flights.\")\n",
    "output_path,filename=getOutputPath(\"ResultatQuestion7\")\n",
    "max_difference_airport_df = spark.createDataFrame([max_difference_airport])\n",
    "extractionToCsv(max_difference_airport_df,output_path)\n",
    "rewriteToCsv(output_path,filename)"
   ]
  },
  {
   "cell_type": "code",
   "execution_count": null,
   "id": "a4cf3ec5-fd6f-4479-83e6-eeb673ed2acd",
   "metadata": {},
   "outputs": [],
   "source": []
  }
 ],
 "metadata": {
  "kernelspec": {
   "display_name": "Python 3 (ipykernel)",
   "language": "python",
   "name": "python3"
  },
  "language_info": {
   "codemirror_mode": {
    "name": "ipython",
    "version": 3
   },
   "file_extension": ".py",
   "mimetype": "text/x-python",
   "name": "python",
   "nbconvert_exporter": "python",
   "pygments_lexer": "ipython3",
   "version": "3.8.10"
  }
 },
 "nbformat": 4,
 "nbformat_minor": 5
}
